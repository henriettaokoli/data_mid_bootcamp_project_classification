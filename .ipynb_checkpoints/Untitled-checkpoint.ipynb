{
 "cells": [
  {
   "cell_type": "code",
   "execution_count": 1,
   "id": "78cca5c9-325c-46ac-b172-4fc1d5099953",
   "metadata": {},
   "outputs": [],
   "source": [
    "import pandas as pd\n"
   ]
  },
  {
   "cell_type": "code",
   "execution_count": 2,
   "id": "959dba83-8f56-4ad5-a22a-8550feca859b",
   "metadata": {},
   "outputs": [],
   "source": [
    "df = pd.read_csv(\"creditcardmarketing.csv\")"
   ]
  },
  {
   "cell_type": "code",
   "execution_count": 3,
   "id": "f2c43bdd-6157-4ed3-af65-b86d24c7f62f",
   "metadata": {
    "scrolled": true
   },
   "outputs": [
    {
     "data": {
      "text/html": [
       "<div>\n",
       "<style scoped>\n",
       "    .dataframe tbody tr th:only-of-type {\n",
       "        vertical-align: middle;\n",
       "    }\n",
       "\n",
       "    .dataframe tbody tr th {\n",
       "        vertical-align: top;\n",
       "    }\n",
       "\n",
       "    .dataframe thead th {\n",
       "        text-align: right;\n",
       "    }\n",
       "</style>\n",
       "<table border=\"1\" class=\"dataframe\">\n",
       "  <thead>\n",
       "    <tr style=\"text-align: right;\">\n",
       "      <th></th>\n",
       "      <th>1</th>\n",
       "      <th>No</th>\n",
       "      <th>Air Miles</th>\n",
       "      <th>Letter</th>\n",
       "      <th>High</th>\n",
       "      <th>1.1</th>\n",
       "      <th>No.1</th>\n",
       "      <th>High.1</th>\n",
       "      <th>2</th>\n",
       "      <th>1.2</th>\n",
       "      <th>4</th>\n",
       "      <th>No.2</th>\n",
       "      <th>1160.75</th>\n",
       "      <th>1669</th>\n",
       "      <th>877</th>\n",
       "      <th>1095</th>\n",
       "      <th>1002</th>\n",
       "    </tr>\n",
       "  </thead>\n",
       "  <tbody>\n",
       "    <tr>\n",
       "      <th>0</th>\n",
       "      <td>2</td>\n",
       "      <td>No</td>\n",
       "      <td>Air Miles</td>\n",
       "      <td>Letter</td>\n",
       "      <td>Medium</td>\n",
       "      <td>1</td>\n",
       "      <td>No</td>\n",
       "      <td>Medium</td>\n",
       "      <td>2</td>\n",
       "      <td>2</td>\n",
       "      <td>5</td>\n",
       "      <td>Yes</td>\n",
       "      <td>147.25</td>\n",
       "      <td>39.0</td>\n",
       "      <td>106.0</td>\n",
       "      <td>78.0</td>\n",
       "      <td>366.0</td>\n",
       "    </tr>\n",
       "    <tr>\n",
       "      <th>1</th>\n",
       "      <td>3</td>\n",
       "      <td>No</td>\n",
       "      <td>Air Miles</td>\n",
       "      <td>Postcard</td>\n",
       "      <td>High</td>\n",
       "      <td>2</td>\n",
       "      <td>No</td>\n",
       "      <td>Medium</td>\n",
       "      <td>2</td>\n",
       "      <td>1</td>\n",
       "      <td>2</td>\n",
       "      <td>Yes</td>\n",
       "      <td>276.50</td>\n",
       "      <td>367.0</td>\n",
       "      <td>352.0</td>\n",
       "      <td>145.0</td>\n",
       "      <td>242.0</td>\n",
       "    </tr>\n",
       "    <tr>\n",
       "      <th>2</th>\n",
       "      <td>4</td>\n",
       "      <td>No</td>\n",
       "      <td>Air Miles</td>\n",
       "      <td>Letter</td>\n",
       "      <td>Medium</td>\n",
       "      <td>2</td>\n",
       "      <td>No</td>\n",
       "      <td>High</td>\n",
       "      <td>1</td>\n",
       "      <td>1</td>\n",
       "      <td>4</td>\n",
       "      <td>No</td>\n",
       "      <td>1219.00</td>\n",
       "      <td>1578.0</td>\n",
       "      <td>1760.0</td>\n",
       "      <td>1119.0</td>\n",
       "      <td>419.0</td>\n",
       "    </tr>\n",
       "    <tr>\n",
       "      <th>3</th>\n",
       "      <td>5</td>\n",
       "      <td>No</td>\n",
       "      <td>Air Miles</td>\n",
       "      <td>Letter</td>\n",
       "      <td>Medium</td>\n",
       "      <td>1</td>\n",
       "      <td>No</td>\n",
       "      <td>Medium</td>\n",
       "      <td>2</td>\n",
       "      <td>1</td>\n",
       "      <td>6</td>\n",
       "      <td>Yes</td>\n",
       "      <td>1211.00</td>\n",
       "      <td>2140.0</td>\n",
       "      <td>1357.0</td>\n",
       "      <td>982.0</td>\n",
       "      <td>365.0</td>\n",
       "    </tr>\n",
       "    <tr>\n",
       "      <th>4</th>\n",
       "      <td>6</td>\n",
       "      <td>No</td>\n",
       "      <td>Air Miles</td>\n",
       "      <td>Letter</td>\n",
       "      <td>Medium</td>\n",
       "      <td>1</td>\n",
       "      <td>No</td>\n",
       "      <td>High</td>\n",
       "      <td>3</td>\n",
       "      <td>1</td>\n",
       "      <td>4</td>\n",
       "      <td>No</td>\n",
       "      <td>1114.75</td>\n",
       "      <td>1847.0</td>\n",
       "      <td>1365.0</td>\n",
       "      <td>750.0</td>\n",
       "      <td>497.0</td>\n",
       "    </tr>\n",
       "  </tbody>\n",
       "</table>\n",
       "</div>"
      ],
      "text/plain": [
       "   1  No  Air Miles    Letter    High  1.1 No.1  High.1  2  1.2  4 No.2  \\\n",
       "0  2  No  Air Miles    Letter  Medium    1   No  Medium  2    2  5  Yes   \n",
       "1  3  No  Air Miles  Postcard    High    2   No  Medium  2    1  2  Yes   \n",
       "2  4  No  Air Miles    Letter  Medium    2   No    High  1    1  4   No   \n",
       "3  5  No  Air Miles    Letter  Medium    1   No  Medium  2    1  6  Yes   \n",
       "4  6  No  Air Miles    Letter  Medium    1   No    High  3    1  4   No   \n",
       "\n",
       "   1160.75    1669     877    1095   1002  \n",
       "0   147.25    39.0   106.0    78.0  366.0  \n",
       "1   276.50   367.0   352.0   145.0  242.0  \n",
       "2  1219.00  1578.0  1760.0  1119.0  419.0  \n",
       "3  1211.00  2140.0  1357.0   982.0  365.0  \n",
       "4  1114.75  1847.0  1365.0   750.0  497.0  "
      ]
     },
     "execution_count": 3,
     "metadata": {},
     "output_type": "execute_result"
    }
   ],
   "source": [
    "df.head()"
   ]
  },
  {
   "cell_type": "code",
   "execution_count": 4,
   "id": "75a9cfe3-584a-4583-b2ad-410b28341b3c",
   "metadata": {},
   "outputs": [
    {
     "data": {
      "text/plain": [
       "(17999, 17)"
      ]
     },
     "execution_count": 4,
     "metadata": {},
     "output_type": "execute_result"
    }
   ],
   "source": [
    "df.shape"
   ]
  },
  {
   "cell_type": "code",
   "execution_count": 5,
   "id": "a2eb5be3-34d1-4923-9381-2f208466ffb6",
   "metadata": {},
   "outputs": [
    {
     "name": "stdout",
     "output_type": "stream",
     "text": [
      "                  1           1.1             2           1.2             4  \\\n",
      "count  17999.000000  17999.000000  17999.000000  17999.000000  17999.000000   \n",
      "mean    9001.000000      1.255792      1.903495      1.203456      3.499028   \n",
      "std     5196.008083      0.472510      0.797031      0.427350      1.114207   \n",
      "min        2.000000      1.000000      1.000000      1.000000      1.000000   \n",
      "25%     4501.500000      1.000000      1.000000      1.000000      3.000000   \n",
      "50%     9001.000000      1.000000      2.000000      1.000000      3.000000   \n",
      "75%    13500.500000      1.000000      2.000000      1.000000      4.000000   \n",
      "max    18000.000000      3.000000      4.000000      3.000000      9.000000   \n",
      "\n",
      "            1160.75          1669           877          1095          1002  \n",
      "count  17975.000000  17975.000000  17975.000000  17975.000000  17975.000000  \n",
      "mean     940.503310    910.408456    999.398999   1042.030654    810.175132  \n",
      "std      350.303729    620.068494    457.414081    553.467854    559.015084  \n",
      "min       48.250000      0.000000      0.000000      0.000000      0.000000  \n",
      "25%      787.500000    392.500000    663.000000    633.000000    363.000000  \n",
      "50%     1007.000000    772.000000   1032.000000    945.000000    703.000000  \n",
      "75%     1153.125000   1521.000000   1342.000000   1463.000000   1212.000000  \n",
      "max     3366.250000   3450.000000   3421.000000   3823.000000   4215.000000  \n"
     ]
    }
   ],
   "source": [
    "print(df.describe())"
   ]
  },
  {
   "cell_type": "code",
   "execution_count": 6,
   "id": "6c40cbe4-da31-4dcf-b1a5-022387ae6c2b",
   "metadata": {},
   "outputs": [
    {
     "name": "stdout",
     "output_type": "stream",
     "text": [
      "<class 'pandas.core.frame.DataFrame'>\n",
      "RangeIndex: 17999 entries, 0 to 17998\n",
      "Data columns (total 17 columns):\n",
      " #   Column     Non-Null Count  Dtype  \n",
      "---  ------     --------------  -----  \n",
      " 0   1          17999 non-null  int64  \n",
      " 1   No         17999 non-null  object \n",
      " 2   Air Miles  17999 non-null  object \n",
      " 3   Letter     17999 non-null  object \n",
      " 4   High       17999 non-null  object \n",
      " 5   1.1        17999 non-null  int64  \n",
      " 6   No.1       17999 non-null  object \n",
      " 7   High.1     17999 non-null  object \n",
      " 8   2          17999 non-null  int64  \n",
      " 9   1.2        17999 non-null  int64  \n",
      " 10  4          17999 non-null  int64  \n",
      " 11  No.2       17999 non-null  object \n",
      " 12  1160.75    17975 non-null  float64\n",
      " 13  1669       17975 non-null  float64\n",
      " 14  877        17975 non-null  float64\n",
      " 15  1095       17975 non-null  float64\n",
      " 16  1002       17975 non-null  float64\n",
      "dtypes: float64(5), int64(5), object(7)\n",
      "memory usage: 2.3+ MB\n",
      "None\n"
     ]
    }
   ],
   "source": [
    "print(df.info())"
   ]
  },
  {
   "cell_type": "code",
   "execution_count": 7,
   "id": "53851746-03ba-42df-bbd4-d085580f9c96",
   "metadata": {},
   "outputs": [
    {
     "name": "stdout",
     "output_type": "stream",
     "text": [
      "1             0\n",
      "No            0\n",
      "Air Miles     0\n",
      "Letter        0\n",
      "High          0\n",
      "1.1           0\n",
      "No.1          0\n",
      "High.1        0\n",
      "2             0\n",
      "1.2           0\n",
      "4             0\n",
      "No.2          0\n",
      "1160.75      24\n",
      "1669         24\n",
      "877          24\n",
      "1095         24\n",
      "1002         24\n",
      "dtype: int64\n"
     ]
    }
   ],
   "source": [
    "print(df.isnull().sum())"
   ]
  },
  {
   "cell_type": "code",
   "execution_count": 32,
   "id": "ca0874f6-bdaa-4e5c-b8dc-17d264f8a0fa",
   "metadata": {},
   "outputs": [],
   "source": [
    "import pandas as pd\n",
    "import numpy as np\n",
    "import matplotlib.pyplot as plt\n",
    "import seaborn as sns\n",
    "from sklearn.model_selection import train_test_split\n",
    "from sklearn.preprocessing import StandardScaler, LabelEncoder\n",
    "from sklearn.metrics import accuracy_score, classification_report\n",
    "from sklearn.tree import DecisionTreeClassifier\n",
    "from sklearn.neighbors import KNeighborsClassifier\n",
    "from sklearn.ensemble import RandomForestClassifier\n",
    "from imblearn.over_sampling import SMOTE\n"
   ]
  },
  {
   "cell_type": "code",
   "execution_count": 41,
   "id": "8f20d1f8-50d0-40a7-bd4d-2813aa665e89",
   "metadata": {},
   "outputs": [
    {
     "ename": "SyntaxError",
     "evalue": "'(' was never closed (3628094188.py, line 1)",
     "output_type": "error",
     "traceback": [
      "\u001b[0;36m  Cell \u001b[0;32mIn[41], line 1\u001b[0;36m\u001b[0m\n\u001b[0;31m    print(df.customer Number\u001b[0m\n\u001b[0m         ^\u001b[0m\n\u001b[0;31mSyntaxError\u001b[0m\u001b[0;31m:\u001b[0m '(' was never closed\n"
     ]
    }
   ],
   "source": [
    "print(df.customer Number"
   ]
  },
  {
   "cell_type": "code",
   "execution_count": null,
   "id": "2371a205-855f-4244-83d7-61f9b2444f6c",
   "metadata": {},
   "outputs": [],
   "source": []
  }
 ],
 "metadata": {
  "kernelspec": {
   "display_name": "Python 3 (ipykernel)",
   "language": "python",
   "name": "python3"
  },
  "language_info": {
   "codemirror_mode": {
    "name": "ipython",
    "version": 3
   },
   "file_extension": ".py",
   "mimetype": "text/x-python",
   "name": "python",
   "nbconvert_exporter": "python",
   "pygments_lexer": "ipython3",
   "version": "3.11.7"
  }
 },
 "nbformat": 4,
 "nbformat_minor": 5
}
