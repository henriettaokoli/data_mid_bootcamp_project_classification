{
 "cells": [
  {
   "cell_type": "code",
   "execution_count": 5,
   "id": "58fabeeb-25ae-4587-872d-a6dc3b3d602d",
   "metadata": {},
   "outputs": [],
   "source": [
    "lst = [1, 2, 34, 5, 3, 12, 9, 8, 67, 89, 98, 90, 39, 21, 45, 46, 23, 13]"
   ]
  },
  {
   "cell_type": "code",
   "execution_count": 6,
   "id": "b8b0121c-50e4-406d-9892-3551dae20b74",
   "metadata": {},
   "outputs": [
    {
     "name": "stdout",
     "output_type": "stream",
     "text": [
      "Number of elements: 18\n",
      "First element: 1\n",
      "Last element: 13\n",
      "Index of element 90: 11\n",
      "First 8 elements: [1, 2, 34, 5, 3, 12, 9, 8]\n",
      "List after appending 100 and 110: [1, 2, 34, 5, 3, 12, 9, 8, 67, 89, 98, 90, 39, 21, 45, 46, 23, 13, 100, 110]\n",
      "Sorted list: [1, 2, 3, 5, 8, 9, 12, 13, 21, 23, 34, 39, 45, 46, 67, 89, 90, 98, 100, 110]\n"
     ]
    }
   ],
   "source": [
    "\n",
    "\n",
    "# a. Number of elements in the list\n",
    "num_elements = len(lst)\n",
    "print(\"Number of elements:\", num_elements)\n",
    "\n",
    "# b. First element in the list\n",
    "first_element = lst[0]\n",
    "print(\"First element:\", first_element)\n",
    "\n",
    "# c. Last element in the list\n",
    "last_element = lst[-1]\n",
    "print(\"Last element:\", last_element)\n",
    "\n",
    "# d. Index of element 90\n",
    "index_of_90 = lst.index(90)\n",
    "print(\"Index of element 90:\", index_of_90)\n",
    "\n",
    "# e. First 8 elements in the list\n",
    "first_8_elements = lst[:8]\n",
    "print(\"First 8 elements:\", first_8_elements)\n",
    "\n",
    "# f. Append elements 100 and 110 to the list\n",
    "lst.append(100)\n",
    "lst.append(110)\n",
    "print(\"List after appending 100 and 110:\", lst)\n",
    "\n",
    "# g. Sort the list\n",
    "lst.sort()\n",
    "print(\"Sorted list:\", lst)\n",
    "\n"
   ]
  },
  {
   "cell_type": "code",
   "execution_count": 7,
   "id": "ea10f499-3a33-48e4-9dd4-25136c1ae1af",
   "metadata": {},
   "outputs": [
    {
     "name": "stdin",
     "output_type": "stream",
     "text": [
      "Enter the element to search for:  9\n"
     ]
    },
    {
     "name": "stdout",
     "output_type": "stream",
     "text": [
      "The element 9 is at index 6.\n"
     ]
    }
   ],
   "source": [
    "# Program to search for an element in a list\n",
    "lst = [1, 2, 34, 5, 3, 12, 9, 8, 67, 89, 98, 90, 39, 21, 45, 46, 23, 13]\n",
    "\n",
    "# Prompt the user to enter the element to search for\n",
    "element_to_search = int(input(\"Enter the element to search for: \"))\n",
    "\n",
    "# Search for the element and return its index\n",
    "if element_to_search in lst:\n",
    "    index = lst.index(element_to_search)\n",
    "    print(f\"The element {element_to_search} is at index {index}.\")\n",
    "else:\n",
    "    print(f\"The element {element_to_search} is not present in the list.\")\n"
   ]
  },
  {
   "cell_type": "code",
   "execution_count": 8,
   "id": "bc5b7f77-3b52-425c-aa4f-b125676528c4",
   "metadata": {},
   "outputs": [
    {
     "name": "stdout",
     "output_type": "stream",
     "text": [
      "The average of the elements in the list is 33.61.\n"
     ]
    }
   ],
   "source": [
    "\n",
    "# Program to calculate the average of elements in a list\n",
    "lst = [1, 2, 34, 5, 3, 12, 9, 8, 67, 89, 98, 90, 39, 21, 45, 46, 23, 13]\n",
    "\n",
    "# Calculate the average of the elements\n",
    "average = sum(lst) / len(lst)\n",
    "print(f\"The average of the elements in the list is {average:.2f}.\")"
   ]
  },
  {
   "cell_type": "code",
   "execution_count": null,
   "id": "492c4b17-571a-4c94-9411-cb0d656c358a",
   "metadata": {},
   "outputs": [],
   "source": []
  }
 ],
 "metadata": {
  "kernelspec": {
   "display_name": "Python 3 (ipykernel)",
   "language": "python",
   "name": "python3"
  },
  "language_info": {
   "codemirror_mode": {
    "name": "ipython",
    "version": 3
   },
   "file_extension": ".py",
   "mimetype": "text/x-python",
   "name": "python",
   "nbconvert_exporter": "python",
   "pygments_lexer": "ipython3",
   "version": "3.11.7"
  }
 },
 "nbformat": 4,
 "nbformat_minor": 5
}
