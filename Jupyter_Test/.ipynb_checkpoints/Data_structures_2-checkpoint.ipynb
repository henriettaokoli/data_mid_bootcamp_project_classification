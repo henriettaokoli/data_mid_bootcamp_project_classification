{
 "cells": [
  {
   "cell_type": "code",
   "execution_count": 2,
   "id": "b996a8b6-450a-410f-859d-4f532d7037e3",
   "metadata": {},
   "outputs": [
    {
     "name": "stdout",
     "output_type": "stream",
     "text": [
      "Number of key-value pairs: 23\n",
      "Keys in the dictionary: ['love', 'conversation', 'every', \"we're\", 'plate', 'sour', 'jukebox', 'now', 'taxi', 'fast', 'bag', 'man', 'push', 'baby', 'going', 'you', \"don't\", 'one', 'mind', 'backseat', 'friends', 'then', 'know']\n",
      "Frequency of 'friends': 1\n",
      "Frequency of 'taxi': 1\n",
      "Frequency of 'jukebox': 1\n",
      "Is 'begin' present in the dictionary? False\n",
      "Updated dictionary: {'love': 25, 'conversation': 1, 'every': 6, \"we're\": 1, 'plate': 1, 'sour': 1, 'jukebox': 1, 'now': 11, 'taxi': 1, 'fast': 1, 'bag': 1, 'man': 1, 'push': 3, 'baby': 14, 'going': 1, 'you': 16, \"don't\": 2, 'one': 1, 'mind': 2, 'backseat': 1, 'friends': 1, 'then': 3, 'know': 2, 'begin': 1, 'start': 2, 'over': 1, 'body': 17}\n",
      "word list: ['love', 'conversation', 'every', \"we're\", 'plate', 'sour', 'jukebox', 'now', 'taxi', 'fast', 'bag', 'man', 'push', 'baby', 'going', 'you', \"don't\", 'one', 'mind', 'backseat', 'friends', 'then', 'know', 'begin', 'start', 'over', 'body']\n",
      "First word in word list: love\n",
      "Frequency of the first word: 25\n",
      "Last word in word list: body\n",
      "Frequency of the last word: 17\n"
     ]
    }
   ],
   "source": [
    "word_freq = {\n",
    "  'love': 25,\n",
    "  'conversation': 1,\n",
    "  'every': 6,\n",
    "  \"we're\": 1,\n",
    "  'plate': 1,\n",
    "  'sour': 1,\n",
    "  'jukebox': 1,\n",
    "  'now': 11,\n",
    "  'taxi': 1,\n",
    "  'fast': 1,\n",
    "  'bag': 1,\n",
    "  'man': 1,\n",
    "  'push': 3,\n",
    "  'baby': 14,\n",
    "  'going': 1,\n",
    "  'you': 16,\n",
    "  \"don't\": 2,\n",
    "  'one': 1,\n",
    "  'mind': 2,\n",
    "  'backseat': 1,\n",
    "  'friends': 1,\n",
    "  'then': 3,\n",
    "  'know': 2\n",
    "}\n",
    "\n",
    "# a. Number of key-value pairs\n",
    "num_pairs = len(word_freq)\n",
    "print(\"Number of key-value pairs:\", num_pairs)\n",
    "\n",
    "# b. Keys in the dictionary\n",
    "keys_list = list(word_freq.keys())\n",
    "print(\"Keys in the dictionary:\", keys_list)\n",
    "\n",
    "# c. Frequency of specific words\n",
    "freq_friends = word_freq.get('friends', 0)\n",
    "freq_taxi = word_freq.get('taxi', 0)\n",
    "freq_jukebox = word_freq.get('jukebox', 0)\n",
    "print(\"Frequency of 'friends':\", freq_friends)\n",
    "print(\"Frequency of 'taxi':\", freq_taxi)\n",
    "print(\"Frequency of 'jukebox':\", freq_jukebox)\n",
    "\n",
    "# d. Check if 'begin' is present\n",
    "is_begin_present = 'begin' in word_freq\n",
    "print(\"Is 'begin' present in the dictionary?\", is_begin_present)\n",
    "\n",
    "# e. Add new words to the dictionary\n",
    "word_freq['begin'] = 1\n",
    "word_freq['start'] = 2\n",
    "word_freq['over'] = 1\n",
    "word_freq['body'] = 17\n",
    "print(\"Updated dictionary:\", word_freq)\n",
    "\n",
    "# f. Convert keys to a list and store in variable 'word'\n",
    "word = list(word_freq.keys())\n",
    "print(\"word list:\", word)\n",
    "\n",
    "# g. First word and its frequency\n",
    "first_word = word[0]\n",
    "first_word_freq = word_freq[first_word]\n",
    "print(\"First word in word list:\", first_word)\n",
    "print(\"Frequency of the first word:\", first_word_freq)\n",
    "\n",
    "# h. Last word and its frequency\n",
    "last_word = word[-1]\n",
    "last_word_freq = word_freq[last_word]\n",
    "print(\"Last word in word list:\", last_word)\n",
    "print(\"Frequency of the last word:\", last_word_freq)\n",
    "\n",
    "\n"
   ]
  },
  {
   "cell_type": "code",
   "execution_count": null,
   "id": "11ac2224-6da2-4484-8bd4-89d537a88834",
   "metadata": {},
   "outputs": [],
   "source": [
    "1.2 Can a dictionary have two key-value pairs with the same key?\n",
    "\n",
    "No, a dictionary cannot have two key-value pairs with the same key. If\n",
    "you assign a value to an existing key, it will overwrite the previous\n",
    "value.\n",
    "\n"
   ]
  },
  {
   "cell_type": "code",
   "execution_count": 1,
   "id": "5a0b8554-8c4d-4004-905e-2bdd9e5d00f3",
   "metadata": {},
   "outputs": [
    {
     "ename": "SyntaxError",
     "evalue": "invalid syntax (3296846315.py, line 1)",
     "output_type": "error",
     "traceback": [
      "\u001b[0;36m  Cell \u001b[0;32mIn[1], line 1\u001b[0;36m\u001b[0m\n\u001b[0;31m    1.3 Can a dictionary have two key-value pairs with the same value but\u001b[0m\n\u001b[0m        ^\u001b[0m\n\u001b[0;31mSyntaxError\u001b[0m\u001b[0;31m:\u001b[0m invalid syntax\n"
     ]
    }
   ],
   "source": [
    "1.3 Can a dictionary have two key-value pairs with the same value but different keys?\n",
    "\n",
    "Yes, a dictionary can have multiple key-value pairs with the same\n",
    "value but different keys. \n",
    "\n",
    "For example:\n",
    "example_dict = {'key1': 100, 'key2': 100, 'key3': 100}\n",
    "In this example, all three keys have the same value of 100. This is\n",
    "perfectly valid in a dictionary"
   ]
  },
  {
   "cell_type": "code",
   "execution_count": null,
   "id": "12ab87b1-89fc-4588-bdd9-feb7fdd27384",
   "metadata": {},
   "outputs": [],
   "source": []
  },
  {
   "cell_type": "code",
   "execution_count": null,
   "id": "d85c8db1-2ea9-4207-81f4-13c049b2f9fa",
   "metadata": {},
   "outputs": [],
   "source": []
  }
 ],
 "metadata": {
  "kernelspec": {
   "display_name": "Python 3 (ipykernel)",
   "language": "python",
   "name": "python3"
  },
  "language_info": {
   "codemirror_mode": {
    "name": "ipython",
    "version": 3
   },
   "file_extension": ".py",
   "mimetype": "text/x-python",
   "name": "python",
   "nbconvert_exporter": "python",
   "pygments_lexer": "ipython3",
   "version": "3.11.7"
  }
 },
 "nbformat": 4,
 "nbformat_minor": 5
}
