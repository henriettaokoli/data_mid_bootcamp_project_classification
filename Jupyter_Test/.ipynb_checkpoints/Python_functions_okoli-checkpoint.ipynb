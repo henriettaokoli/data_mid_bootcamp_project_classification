{
 "cells": [
  {
   "cell_type": "code",
   "execution_count": 1,
   "id": "64b53d6b-9ce6-456f-926c-a345f4cdf3b5",
   "metadata": {},
   "outputs": [
    {
     "name": "stdout",
     "output_type": "stream",
     "text": [
      "Birth year: 1930 - Generation: silent generation\n",
      "Birth year: 1950 - Generation: baby boomer\n",
      "Birth year: 1970 - Generation: X generation\n",
      "Birth year: 1985 - Generation: millennial\n",
      "Birth year: 2000 - Generation: Z generation\n"
     ]
    }
   ],
   "source": [
    "def generation_calculator(birth_year):\n",
    "    if birth_year < 1949:\n",
    "        return \"silent generation\"\n",
    "    elif birth_year < 1969:\n",
    "        return \"baby boomer\"\n",
    "    elif birth_year < 1981:\n",
    "        return \"X generation\"\n",
    "    elif birth_year < 1994:\n",
    "        return \"millennial\"\n",
    "    else:\n",
    "        return \"Z generation\"\n",
    "\n",
    "# Test the function with different birth years\n",
    "test_years = [1930, 1950, 1970, 1985, 2000]\n",
    "for year in test_years:\n",
    "    generation = generation_calculator(year)\n",
    "    print(f\"Birth year: {year} - Generation: {generation}\")\n"
   ]
  },
  {
   "cell_type": "code",
   "execution_count": null,
   "id": "cab326df-41e8-47de-b75b-af2d5366ed9e",
   "metadata": {},
   "outputs": [],
   "source": []
  }
 ],
 "metadata": {
  "kernelspec": {
   "display_name": "Python 3 (ipykernel)",
   "language": "python",
   "name": "python3"
  },
  "language_info": {
   "codemirror_mode": {
    "name": "ipython",
    "version": 3
   },
   "file_extension": ".py",
   "mimetype": "text/x-python",
   "name": "python",
   "nbconvert_exporter": "python",
   "pygments_lexer": "ipython3",
   "version": "3.11.7"
  }
 },
 "nbformat": 4,
 "nbformat_minor": 5
}
