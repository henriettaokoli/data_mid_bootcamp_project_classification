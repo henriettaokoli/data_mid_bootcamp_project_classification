{
 "cells": [
  {
   "cell_type": "code",
   "execution_count": 1,
   "id": "d470d948-c42a-4208-80bc-b0c4979e40b6",
   "metadata": {},
   "outputs": [],
   "source": [
    "### pre- work ###"
   ]
  },
  {
   "cell_type": "code",
   "execution_count": 4,
   "id": "c08229b1-8b5a-4b4b-82d8-6d1eff33cc57",
   "metadata": {
    "scrolled": true
   },
   "outputs": [
    {
     "name": "stdin",
     "output_type": "stream",
     "text": [
      "Please enter your first name:  henrietta\n",
      "Please enter your last name:  Okoli\n"
     ]
    },
    {
     "name": "stdout",
     "output_type": "stream",
     "text": [
      "Hello, henrietta Okoli!|\n"
     ]
    }
   ],
   "source": [
    "# Ask the user to enter their first name\n",
    "first_name = input(\"Please enter your first name: \")\n",
    "\n",
    "# Ask the user to enter their last name\n",
    "last_name = input(\"Please enter your last name: \")\n",
    "\n",
    "# Concatenate the first name and last name\n",
    "full_name = first_name + \" \" + last_name\n",
    "\n",
    "# Displaying the greeting message\n",
    "\n",
    "print(f\"Hello, {full_name}!|\")"
   ]
  },
  {
   "cell_type": "code",
   "execution_count": null,
   "id": "7ebb9a8b-d736-429e-ab91-6d7578ffe3db",
   "metadata": {},
   "outputs": [],
   "source": []
  }
 ],
 "metadata": {
  "kernelspec": {
   "display_name": "Python 3 (ipykernel)",
   "language": "python",
   "name": "python3"
  },
  "language_info": {
   "codemirror_mode": {
    "name": "ipython",
    "version": 3
   },
   "file_extension": ".py",
   "mimetype": "text/x-python",
   "name": "python",
   "nbconvert_exporter": "python",
   "pygments_lexer": "ipython3",
   "version": "3.11.7"
  }
 },
 "nbformat": 4,
 "nbformat_minor": 5
}
