{
 "cells": [
  {
   "cell_type": "code",
   "execution_count": 1,
   "id": "ccfaec6e-f931-4f77-a111-286866d0466d",
   "metadata": {},
   "outputs": [
    {
     "name": "stdin",
     "output_type": "stream",
     "text": [
      "Enter the first number:  1\n",
      "Enter the second number:  2\n"
     ]
    },
    {
     "name": "stdout",
     "output_type": "stream",
     "text": [
      "The second number (2.0) is larger.\n"
     ]
    }
   ],
   "source": [
    "# Prompt the user to enter the first number\n",
    "num1 = float(input(\"Enter the first number: \"))\n",
    "\n",
    "# Prompt the user to enter the second number\n",
    "num2 = float(input(\"Enter the second number: \"))\n",
    "\n",
    "# Determine which number is larger or if they are equal\n",
    "if num1 > num2:\n",
    "    print(f\"The first number ({num1}) is larger.\")\n",
    "elif num1 < num2:\n",
    "    print(f\"The second number ({num2}) is larger.\")\n",
    "else:\n",
    "    print(\"Both numbers are equal.\")\n"
   ]
  },
  {
   "cell_type": "code",
   "execution_count": 3,
   "id": "ee862025-8624-4a18-976c-802bad1d308c",
   "metadata": {},
   "outputs": [
    {
     "name": "stdin",
     "output_type": "stream",
     "text": [
      "Enter your numerical grade:  70\n"
     ]
    },
    {
     "name": "stdout",
     "output_type": "stream",
     "text": [
      "Your grade is: C\n"
     ]
    }
   ],
   "source": [
    "\n",
    "\n",
    "# Prompt the user to enter a numerical grade\n",
    "grade = float(input(\"Enter your numerical grade: \"))\n",
    "\n",
    "# Determine the grade classification\n",
    "if grade >= 90:\n",
    "    print(\"Your grade is: A\")\n",
    "elif grade >= 80:\n",
    "    print(\"Your grade is: B\")\n",
    "elif grade >= 70:\n",
    "    print(\"Your grade is: C\")\n",
    "elif grade >= 60:\n",
    "    print(\"Your grade is: D\")\n",
    "else:\n",
    "    print(\"Your grade is: F\")\n",
    "\n"
   ]
  },
  {
   "cell_type": "code",
   "execution_count": 4,
   "id": "14f5a553-fe17-40bc-94df-9ea41f223bad",
   "metadata": {},
   "outputs": [
    {
     "name": "stdin",
     "output_type": "stream",
     "text": [
      "Enter a letter of the alphabet:  Q\n"
     ]
    },
    {
     "name": "stdout",
     "output_type": "stream",
     "text": [
      "The letter 'q' is a consonant.\n"
     ]
    }
   ],
   "source": [
    "\n",
    "\n",
    "# Prompt the user to enter a letter of the alphabet\n",
    "letter = input(\"Enter a letter of the alphabet: \").lower()\n",
    "\n",
    "# Ensure that the input is a single letter\n",
    "if len(letter) == 1 and letter.isalpha():\n",
    "    # Check if the letter is a vowel\n",
    "    if letter in 'aeiou':\n",
    "        print(f\"The letter '{letter}' is a vowel.\")\n",
    "    else:\n",
    "        print(f\"The letter '{letter}' is a consonant.\")\n",
    "else:\n",
    "    print(\"Please enter a single letter of the alphabet.\")\n"
   ]
  },
  {
   "cell_type": "code",
   "execution_count": null,
   "id": "b3607f77-6008-4629-b42f-7a7abd97909e",
   "metadata": {},
   "outputs": [],
   "source": []
  }
 ],
 "metadata": {
  "kernelspec": {
   "display_name": "Python 3 (ipykernel)",
   "language": "python",
   "name": "python3"
  },
  "language_info": {
   "codemirror_mode": {
    "name": "ipython",
    "version": 3
   },
   "file_extension": ".py",
   "mimetype": "text/x-python",
   "name": "python",
   "nbconvert_exporter": "python",
   "pygments_lexer": "ipython3",
   "version": "3.11.7"
  }
 },
 "nbformat": 4,
 "nbformat_minor": 5
}
