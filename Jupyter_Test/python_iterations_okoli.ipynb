{
 "cells": [
  {
   "cell_type": "code",
   "execution_count": 1,
   "id": "61dd3eba-6d5e-49e2-8a73-1713c4bee352",
   "metadata": {},
   "outputs": [
    {
     "name": "stdout",
     "output_type": "stream",
     "text": [
      "10\n",
      "11\n",
      "12\n",
      "13\n",
      "14\n",
      "15\n",
      "16\n",
      "17\n",
      "18\n",
      "19\n",
      "20\n",
      "21\n",
      "22\n",
      "23\n",
      "24\n",
      "25\n",
      "26\n",
      "27\n",
      "28\n",
      "29\n",
      "30\n"
     ]
    }
   ],
   "source": [
    "# Print integers from 10 to 30\n",
    "\n",
    "for i in range(10, 31):\n",
    "    print(i)\n"
   ]
  },
  {
   "cell_type": "code",
   "execution_count": 2,
   "id": "2a7fe754-f9bd-49ba-be70-2a71d16b4aa9",
   "metadata": {},
   "outputs": [
    {
     "name": "stdout",
     "output_type": "stream",
     "text": [
      "10\n",
      "15\n",
      "20\n",
      "25\n",
      "30\n"
     ]
    }
   ],
   "source": [
    "\n",
    "# Print multiples of 5 between 10 and 30\n",
    "for i in range(10, 31):\n",
    "    if i % 5 == 0:\n",
    "        print(i)\n"
   ]
  },
  {
   "cell_type": "code",
   "execution_count": 3,
   "id": "6c83df75-a0a7-4c71-88f5-1414ab82e4d2",
   "metadata": {},
   "outputs": [
    {
     "name": "stdout",
     "output_type": "stream",
     "text": [
      "*\n",
      "***\n",
      "*****\n"
     ]
    }
   ],
   "source": [
    "\n",
    "# Print the pattern\n",
    "pattern = [\"*\", \"***\", \"*****\"]\n",
    "for line in pattern:\n",
    "    print(line)\n",
    "\n"
   ]
  },
  {
   "cell_type": "code",
   "execution_count": null,
   "id": "9cc5f988-a125-469e-9bb4-678915877c58",
   "metadata": {},
   "outputs": [],
   "source": [
    "# 1.4\n",
    "\n",
    "\n"
   ]
  },
  {
   "cell_type": "code",
   "execution_count": 5,
   "id": "4e933dd0-1ce2-480a-a848-b1e17f799f83",
   "metadata": {},
   "outputs": [
    {
     "name": "stdin",
     "output_type": "stream",
     "text": [
      "Enter an integer number:  12\n"
     ]
    },
    {
     "name": "stdout",
     "output_type": "stream",
     "text": [
      "The factorial of 12 using loops is: 479001600\n",
      "The factorial of 12 using math.factorial is: 479001600\n"
     ]
    }
   ],
   "source": [
    "# 1.5\n",
    "\n",
    "\n",
    "# Calculate the factorial of a number\n",
    "import math\n",
    "\n",
    "# Prompt the user to enter an integer number\n",
    "number = int(input(\"Enter an integer number: \"))\n",
    "\n",
    "# Calculate factorial using loops\n",
    "factorial = 1\n",
    "for i in range(1, number + 1):\n",
    "    factorial *= i\n",
    "\n",
    "print(f\"The factorial of {number} using loops is: {factorial}\")\n",
    "\n",
    "# Verify with math library\n",
    "factorial_math = math.factorial(number)\n",
    "print(f\"The factorial of {number} using math.factorial is: {factorial_math}\")\n",
    "\n"
   ]
  },
  {
   "cell_type": "code",
   "execution_count": 6,
   "id": "48df0b2f-9ff8-4754-aea6-5f499aa6ad32",
   "metadata": {},
   "outputs": [
    {
     "name": "stdout",
     "output_type": "stream",
     "text": [
      "Numbers divisible by 3: [12, 6, 12, 93, 783, 330]\n"
     ]
    }
   ],
   "source": [
    "#2.1\n",
    "\n",
    "x = [12, 43, 4, 1, 6, 343, 10, 34, 12, 93, 783, 330, 896, 1, 55]\n",
    "# Numbers in the list divisible by 3\n",
    "divisible_by_3 = [num for num in x if num % 3 == 0]\n",
    "print(\"Numbers divisible by 3:\", divisible_by_3)\n"
   ]
  },
  {
   "cell_type": "code",
   "execution_count": 8,
   "id": "59267e78-3d21-4079-8ca5-87147efd05e3",
   "metadata": {},
   "outputs": [
    {
     "name": "stdout",
     "output_type": "stream",
     "text": [
      "Numbers ending with digit 3: [43, 343, 93, 783]\n"
     ]
    }
   ],
   "source": [
    "\n",
    "#2.2\n",
    "\n",
    "# Numbers in the list ending with digit 3\n",
    "\n",
    "ending_with_3 = [num for num in x if str(num).endswith('3')]\n",
    "print(\"Numbers ending with digit 3:\", ending_with_3)\n",
    "\n"
   ]
  },
  {
   "cell_type": "code",
   "execution_count": 9,
   "id": "9b2a8cfc-e1dd-4051-ae94-0ea4038b0f00",
   "metadata": {},
   "outputs": [
    {
     "name": "stdout",
     "output_type": "stream",
     "text": [
      "Minimum value in the list: 1\n"
     ]
    }
   ],
   "source": [
    "# 2.3\n",
    "\n",
    "# Minimum value in the list\n",
    "min_value = min(x)\n",
    "print(\"Minimum value in the list:\", min_value)\n",
    "\n"
   ]
  },
  {
   "cell_type": "code",
   "execution_count": 10,
   "id": "7f3b88ad-fa76-4506-a8f1-9d9f7909ddb3",
   "metadata": {},
   "outputs": [
    {
     "name": "stdout",
     "output_type": "stream",
     "text": [
      "Maximum value in the list: 896\n"
     ]
    }
   ],
   "source": [
    "# 2.4\n",
    "# Maximum value in the list\n",
    "\n",
    "max_value = max(x)\n",
    "print(\"Maximum value in the list:\", max_value)\n",
    "\n"
   ]
  },
  {
   "cell_type": "code",
   "execution_count": 11,
   "id": "ed48a150-f879-448b-8eaa-444b15e64564",
   "metadata": {},
   "outputs": [],
   "source": [
    "#3.0\n",
    "\n",
    "word_freq = {\n",
    "  'love': 25, 'conversation': 1, 'every': 6, \"we're\": 1, 'plate': 1,\n",
    "  'sour': 1, 'jukebox': 1, 'now': 11, 'taxi': 1, 'fast': 1, 'bag': 1,\n",
    "  'man': 1, 'push': 3, 'baby': 14, 'going': 1, 'you': 16, \"don't\": 2,\n",
    "  'one': 1, 'mind': 2, 'backseat': 1, 'friends': 1, 'then': 3, 'know': 2\n",
    "}\n",
    "\n",
    "\n"
   ]
  },
  {
   "cell_type": "code",
   "execution_count": 12,
   "id": "0e6ec636-68ba-4d40-9734-3f7affc8e1a4",
   "metadata": {},
   "outputs": [
    {
     "name": "stdout",
     "output_type": "stream",
     "text": [
      "conversation\n",
      "we're\n",
      "plate\n",
      "sour\n",
      "jukebox\n",
      "taxi\n",
      "fast\n",
      "bag\n",
      "man\n",
      "going\n",
      "don't\n",
      "one\n",
      "mind\n",
      "backseat\n",
      "friends\n",
      "know\n"
     ]
    }
   ],
   "source": [
    "# 3.1\n",
    "# Print keys with frequency less than 3\n",
    "for word, freq in word_freq.items():\n",
    "    if freq < 3:\n",
    "        print(word)\n"
   ]
  },
  {
   "cell_type": "code",
   "execution_count": 13,
   "id": "551f6b1b-9477-416e-965f-2d113f0fc40c",
   "metadata": {},
   "outputs": [
    {
     "name": "stdout",
     "output_type": "stream",
     "text": [
      "Word with the highest frequency: love\n"
     ]
    }
   ],
   "source": [
    "\n",
    "#3.2\n",
    "\n",
    "# Find the word with the highest frequency\n",
    "max_freq_word = max(word_freq, key=word_freq.get)\n",
    "print(\"Word with the highest frequency:\", max_freq_word)\n",
    "\n"
   ]
  },
  {
   "cell_type": "code",
   "execution_count": 14,
   "id": "a948110f-8289-442d-a6b8-e5b47bc05022",
   "metadata": {},
   "outputs": [
    {
     "name": "stdin",
     "output_type": "stream",
     "text": [
      "Guess the number between 1 and 100:  5\n"
     ]
    },
    {
     "name": "stdout",
     "output_type": "stream",
     "text": [
      "Too low, try again!\n"
     ]
    },
    {
     "name": "stdin",
     "output_type": "stream",
     "text": [
      "Guess the number between 1 and 100:  5\n"
     ]
    },
    {
     "name": "stdout",
     "output_type": "stream",
     "text": [
      "Too low, try again!\n"
     ]
    },
    {
     "name": "stdin",
     "output_type": "stream",
     "text": [
      "Guess the number between 1 and 100:  99\n"
     ]
    },
    {
     "name": "stdout",
     "output_type": "stream",
     "text": [
      "Too high, try again!\n"
     ]
    },
    {
     "name": "stdin",
     "output_type": "stream",
     "text": [
      "Guess the number between 1 and 100:  100\n"
     ]
    },
    {
     "name": "stdout",
     "output_type": "stream",
     "text": [
      "Too high, try again!\n"
     ]
    },
    {
     "name": "stdin",
     "output_type": "stream",
     "text": [
      "Guess the number between 1 and 100:  3\n"
     ]
    },
    {
     "name": "stdout",
     "output_type": "stream",
     "text": [
      "Too low, try again!\n"
     ]
    },
    {
     "name": "stdin",
     "output_type": "stream",
     "text": [
      "Guess the number between 1 and 100:  4\n"
     ]
    },
    {
     "name": "stdout",
     "output_type": "stream",
     "text": [
      "Too low, try again!\n"
     ]
    },
    {
     "name": "stdin",
     "output_type": "stream",
     "text": [
      "Guess the number between 1 and 100:  6\n"
     ]
    },
    {
     "name": "stdout",
     "output_type": "stream",
     "text": [
      "Too low, try again!\n"
     ]
    },
    {
     "name": "stdin",
     "output_type": "stream",
     "text": [
      "Guess the number between 1 and 100:  7\n"
     ]
    },
    {
     "name": "stdout",
     "output_type": "stream",
     "text": [
      "Too low, try again!\n"
     ]
    },
    {
     "name": "stdin",
     "output_type": "stream",
     "text": [
      "Guess the number between 1 and 100:  55\n"
     ]
    },
    {
     "name": "stdout",
     "output_type": "stream",
     "text": [
      "Too high, try again!\n"
     ]
    },
    {
     "name": "stdin",
     "output_type": "stream",
     "text": [
      "Guess the number between 1 and 100:  4\n"
     ]
    },
    {
     "name": "stdout",
     "output_type": "stream",
     "text": [
      "Too low, try again!\n"
     ]
    },
    {
     "name": "stdin",
     "output_type": "stream",
     "text": [
      "Guess the number between 1 and 100:  20\n"
     ]
    },
    {
     "name": "stdout",
     "output_type": "stream",
     "text": [
      "Too low, try again!\n"
     ]
    },
    {
     "name": "stdin",
     "output_type": "stream",
     "text": [
      "Guess the number between 1 and 100:  30\n"
     ]
    },
    {
     "name": "stdout",
     "output_type": "stream",
     "text": [
      "Too high, try again!\n"
     ]
    },
    {
     "name": "stdin",
     "output_type": "stream",
     "text": [
      "Guess the number between 1 and 100:  25\n"
     ]
    },
    {
     "name": "stdout",
     "output_type": "stream",
     "text": [
      "Too high, try again!\n"
     ]
    },
    {
     "name": "stdin",
     "output_type": "stream",
     "text": [
      "Guess the number between 1 and 100:  24\n"
     ]
    },
    {
     "name": "stdout",
     "output_type": "stream",
     "text": [
      "Too high, try again!\n"
     ]
    },
    {
     "name": "stdin",
     "output_type": "stream",
     "text": [
      "Guess the number between 1 and 100:  23\n"
     ]
    },
    {
     "name": "stdout",
     "output_type": "stream",
     "text": [
      "Too high, try again!\n"
     ]
    },
    {
     "name": "stdin",
     "output_type": "stream",
     "text": [
      "Guess the number between 1 and 100:  22\n"
     ]
    },
    {
     "name": "stdout",
     "output_type": "stream",
     "text": [
      "Too high, try again!\n"
     ]
    },
    {
     "name": "stdin",
     "output_type": "stream",
     "text": [
      "Guess the number between 1 and 100:  21\n"
     ]
    },
    {
     "name": "stdout",
     "output_type": "stream",
     "text": [
      "Congratulations, you guessed the number!\n"
     ]
    }
   ],
   "source": [
    "# 4.0\n",
    "\n",
    "# Number guessing game\n",
    "\n",
    "import random\n",
    "\n",
    "# Generate a random number between 1 and 100\n",
    "random_number = random.randint(1, 100)\n",
    "\n",
    "# Prompt the user to guess the number\n",
    "while True:\n",
    "    guess = int(input(\"Guess the number between 1 and 100: \"))\n",
    "    if guess > random_number:\n",
    "        print(\"Too high, try again!\")\n",
    "    elif guess < random_number:\n",
    "        print(\"Too low, try again!\")\n",
    "    else:\n",
    "        print(\"Congratulations, you guessed the number!\")\n",
    "        break"
   ]
  },
  {
   "cell_type": "code",
   "execution_count": null,
   "id": "e466c681-28b8-4696-889f-69eff4860f38",
   "metadata": {},
   "outputs": [],
   "source": []
  },
  {
   "cell_type": "code",
   "execution_count": null,
   "id": "7a7f764d-ddff-46ea-bf37-7878cccb9d4c",
   "metadata": {},
   "outputs": [],
   "source": []
  },
  {
   "cell_type": "code",
   "execution_count": null,
   "id": "ce2142ce-50b2-4e05-a986-99cd09d308fb",
   "metadata": {},
   "outputs": [],
   "source": []
  },
  {
   "cell_type": "code",
   "execution_count": null,
   "id": "b39034a6-7f42-4365-a6de-ac8bbdf8815b",
   "metadata": {},
   "outputs": [],
   "source": []
  },
  {
   "cell_type": "code",
   "execution_count": null,
   "id": "08521f1b-579e-4f12-a5e0-0a59a52bc16c",
   "metadata": {},
   "outputs": [],
   "source": []
  },
  {
   "cell_type": "code",
   "execution_count": null,
   "id": "4ab4edc6-6f2e-40c1-9046-f709bdc8cb1e",
   "metadata": {},
   "outputs": [],
   "source": []
  },
  {
   "cell_type": "code",
   "execution_count": null,
   "id": "1cde2db9-fd11-489a-9ac6-e1d687c66d8a",
   "metadata": {},
   "outputs": [],
   "source": []
  },
  {
   "cell_type": "code",
   "execution_count": null,
   "id": "0896fbe7-b908-4961-ab5c-cfd565bac81e",
   "metadata": {},
   "outputs": [],
   "source": []
  },
  {
   "cell_type": "code",
   "execution_count": null,
   "id": "3b23eb78-f3d4-4e5a-80ae-25c14125cc01",
   "metadata": {},
   "outputs": [],
   "source": []
  },
  {
   "cell_type": "code",
   "execution_count": null,
   "id": "a4d851ad-2ca9-468f-8c18-6ce073bcf3ec",
   "metadata": {},
   "outputs": [],
   "source": []
  },
  {
   "cell_type": "code",
   "execution_count": null,
   "id": "f798be8a-554c-4438-863d-e937cad11686",
   "metadata": {},
   "outputs": [],
   "source": []
  },
  {
   "cell_type": "code",
   "execution_count": null,
   "id": "d716560a-5057-4032-9091-3bdbb6e0961b",
   "metadata": {},
   "outputs": [],
   "source": []
  },
  {
   "cell_type": "code",
   "execution_count": null,
   "id": "84fde424-8ead-49fa-b845-08b9dc27f979",
   "metadata": {},
   "outputs": [],
   "source": []
  },
  {
   "cell_type": "code",
   "execution_count": null,
   "id": "d8f0f6f0-1a98-416d-a541-6999aba4eca7",
   "metadata": {},
   "outputs": [],
   "source": []
  }
 ],
 "metadata": {
  "kernelspec": {
   "display_name": "Python 3 (ipykernel)",
   "language": "python",
   "name": "python3"
  },
  "language_info": {
   "codemirror_mode": {
    "name": "ipython",
    "version": 3
   },
   "file_extension": ".py",
   "mimetype": "text/x-python",
   "name": "python",
   "nbconvert_exporter": "python",
   "pygments_lexer": "ipython3",
   "version": "3.11.7"
  }
 },
 "nbformat": 4,
 "nbformat_minor": 5
}
